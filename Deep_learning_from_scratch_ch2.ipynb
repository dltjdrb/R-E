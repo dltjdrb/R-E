{
  "nbformat": 4,
  "nbformat_minor": 0,
  "metadata": {
    "colab": {
      "provenance": [],
      "authorship_tag": "ABX9TyOryfaIHbseHhBh55dOEhjg",
      "include_colab_link": true
    },
    "kernelspec": {
      "name": "python3",
      "display_name": "Python 3"
    },
    "language_info": {
      "name": "python"
    }
  },
  "cells": [
    {
      "cell_type": "markdown",
      "metadata": {
        "id": "view-in-github",
        "colab_type": "text"
      },
      "source": [
        "<a href=\"https://colab.research.google.com/github/dltjdrb/R-E/blob/main/Deep_learning_from_scratch_ch2.ipynb\" target=\"_parent\"><img src=\"https://colab.research.google.com/assets/colab-badge.svg\" alt=\"Open In Colab\"/></a>"
      ]
    },
    {
      "cell_type": "markdown",
      "source": [
        "Perceptron: 다수의 신호를 입력으로 받아 하나의 신호를 출력\n",
        "\n",
        "𝒴 =\n",
        "{\n",
        "     \n",
        "    0 (wₐxₐ + wᵦxᵦ ≤ θ)\n",
        "    1 (wₐxₐ + wᵦxᵦ ≥ θ)\n",
        "    \n",
        "    }"
      ],
      "metadata": {
        "id": "oKEvS5CsNolK"
      }
    },
    {
      "cell_type": "markdown",
      "source": [
        "AND Gate"
      ],
      "metadata": {
        "id": "ak4mU7W8OUtq"
      }
    },
    {
      "cell_type": "code",
      "source": [
        "def AND(x1, x2):\n",
        "    w1, w2, theta = 0.5, 0.5, 0.7\n",
        "    tmp = x1 * w1 + x2 * w2\n",
        "    if tmp <= theta:\n",
        "        return 0\n",
        "    elif tmp > theta:\n",
        "        return 1"
      ],
      "metadata": {
        "id": "w2YB9YodPTkS"
      },
      "execution_count": 1,
      "outputs": []
    },
    {
      "cell_type": "markdown",
      "source": [
        "가중치와 편향\n",
        "\n",
        "y =  \n",
        "\n",
        "0 (wₐxₐ + wᵦxᵦ + b ≤ 0)\n",
        "\n",
        "1 (wₐxₐ + wᵦxᵦ + b ≥ 0)\n",
        "    "
      ],
      "metadata": {
        "id": "G1pJT4WQPivT"
      }
    },
    {
      "cell_type": "code",
      "source": [
        "import numpy as np\n",
        "def AND(x1, x2):\n",
        "    x = np.array([x1, x2])\n",
        "    w = np.array([0.5, 0.5])\n",
        "    b = -0.7\n",
        "    tmp = np.sum(w * x) + b\n",
        "    if tmp <= 0:\n",
        "        return 0\n",
        "    else:\n",
        "        return 1"
      ],
      "metadata": {
        "id": "ONbN8wo3Pd7a"
      },
      "execution_count": 2,
      "outputs": []
    },
    {
      "cell_type": "code",
      "source": [
        "def NAND(x1, x2):\n",
        "    x = np.array([x1, x2])\n",
        "    w = np.array([-0.5, -0.5])\n",
        "    b = 0.7\n",
        "    tmp = np.sum(w * x)\n",
        "    if tmp <= 0:\n",
        "        return 0\n",
        "    else: return 1"
      ],
      "metadata": {
        "id": "dZOFdzm_QNWy"
      },
      "execution_count": 3,
      "outputs": []
    },
    {
      "cell_type": "code",
      "source": [
        "def OR(x1, x2):\n",
        "    x = np.array([x1, x2])\n",
        "    w = np.array([0.5, 0.5])\n",
        "    b = -0.2\n",
        "    tmp = np.sum(w * x) + b\n",
        "    if tmp <= 0:\n",
        "        return 0\n",
        "    else: return 1"
      ],
      "metadata": {
        "id": "0e6YCoFtQiSg"
      },
      "execution_count": 4,
      "outputs": []
    },
    {
      "cell_type": "markdown",
      "source": [
        "XOR gate: NAND, OR gate의 값들을 AND Gate에 넣으면 XOR gate가 된다"
      ],
      "metadata": {
        "id": "FVTGVL4hQuGQ"
      }
    },
    {
      "cell_type": "code",
      "source": [
        "def XOR(x1, x2):\n",
        "    s1 = NAND(x1, x2)\n",
        "    s2 = OR(x1, x2)\n",
        "    y = AND(s1, s2)\n",
        "    return y"
      ],
      "metadata": {
        "id": "k_hYzTj1RAwb"
      },
      "execution_count": 5,
      "outputs": []
    },
    {
      "cell_type": "markdown",
      "source": [
        "다층 퍼셉트론: 퍼셉트론을 여러 층으로 구현한 것"
      ],
      "metadata": {
        "id": "mIDXpac1RNt3"
      }
    },
    {
      "cell_type": "markdown",
      "source": [
        "잘하면 NAND에서 컴터도 만들수 있다....?"
      ],
      "metadata": {
        "id": "tzULHujNRl0X"
      }
    },
    {
      "cell_type": "code",
      "source": [],
      "metadata": {
        "id": "S9hSLsamRp8a"
      },
      "execution_count": null,
      "outputs": []
    }
  ]
}